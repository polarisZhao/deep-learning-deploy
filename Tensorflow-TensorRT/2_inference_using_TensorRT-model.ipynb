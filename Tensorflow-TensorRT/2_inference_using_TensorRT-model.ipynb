{
 "cells": [
  {
   "cell_type": "markdown",
   "metadata": {},
   "source": [
    "### Read the input image"
   ]
  },
  {
   "cell_type": "code",
   "execution_count": 5,
   "metadata": {},
   "outputs": [],
   "source": [
    "# !pip3 install matplotlib"
   ]
  },
  {
   "cell_type": "code",
   "execution_count": 11,
   "metadata": {},
   "outputs": [],
   "source": [
    "# import the needed libraries\n",
    "import tensorflow as tf\n",
    "import tensorflow.contrib.tensorrt as trt # must import this although we will not use it explicitly\n",
    "from tensorflow.python.platform import gfile\n",
    "from PIL import Image\n",
    "import numpy as np\n",
    "import time\n",
    "from matplotlib import pyplot as plt\n",
    "\n",
    "# read the testing images (only for example)\n",
    "img1= Image.open(\"dataset/mnist/testing/0/img_108.jpg\")\n",
    "img2= Image.open(\"dataset/mnist/testing/1/img_0.jpg\")\n",
    "img1 = np.asarray(img1)\n",
    "img2 = np.asarray(img2)\n",
    "input_img = np.concatenate((img1.reshape((1, 28, 28, 1)), \n",
    "                            img2.reshape((1, 28, 28, 1))), \n",
    "                           axis=0)"
   ]
  },
  {
   "cell_type": "markdown",
   "metadata": {},
   "source": [
    "### Function to read \".pb\" model (TensorRT model is stored in \".pb\")"
   ]
  },
  {
   "cell_type": "code",
   "execution_count": 7,
   "metadata": {},
   "outputs": [],
   "source": [
    "# function to read a \".pb\" model \n",
    "# (can be used to read frozen model or TensorRT model)\n",
    "def read_pb_graph(model):\n",
    "  with gfile.FastGFile(model,'rb') as f:\n",
    "    graph_def = tf.GraphDef()\n",
    "    graph_def.ParseFromString(f.read())\n",
    "  return graph_def"
   ]
  },
  {
   "cell_type": "markdown",
   "metadata": {},
   "source": [
    "### Perform inference using TensorRT model"
   ]
  },
  {
   "cell_type": "code",
   "execution_count": 8,
   "metadata": {},
   "outputs": [
    {
     "name": "stdout",
     "output_type": "stream",
     "text": [
      "needed time in inference-0:  0.0006282329559326172\n",
      "needed time in inference-1:  0.0005333423614501953\n",
      "needed time in inference-2:  0.0004837512969970703\n",
      "needed time in inference-3:  0.0018155574798583984\n",
      "needed time in inference-4:  0.0005922317504882812\n",
      "needed time in inference-5:  0.00046515464782714844\n",
      "needed time in inference-6:  0.0004563331604003906\n",
      "needed time in inference-7:  0.0005581378936767578\n",
      "needed time in inference-8:  0.0005595684051513672\n",
      "needed time in inference-9:  0.0005283355712890625\n",
      "needed time in inference-10:  0.0004699230194091797\n",
      "needed time in inference-11:  0.0005600452423095703\n",
      "needed time in inference-12:  0.00046515464782714844\n",
      "needed time in inference-13:  0.0004086494445800781\n",
      "needed time in inference-14:  0.00036454200744628906\n",
      "needed time in inference-15:  0.0005152225494384766\n",
      "needed time in inference-16:  0.00045871734619140625\n",
      "needed time in inference-17:  0.0005507469177246094\n",
      "needed time in inference-18:  0.0004184246063232422\n",
      "needed time in inference-19:  0.0005028247833251953\n",
      "needed time in inference-20:  0.0005087852478027344\n",
      "needed time in inference-21:  0.0004968643188476562\n",
      "needed time in inference-22:  0.0004513263702392578\n",
      "needed time in inference-23:  0.00047707557678222656\n",
      "needed time in inference-24:  0.0004935264587402344\n",
      "needed time in inference-25:  0.0005218982696533203\n",
      "needed time in inference-26:  0.0005555152893066406\n",
      "needed time in inference-27:  0.00046896934509277344\n",
      "needed time in inference-28:  0.0003905296325683594\n",
      "needed time in inference-29:  0.00044035911560058594\n",
      "needed time in inference-30:  0.0003523826599121094\n",
      "needed time in inference-31:  0.00042247772216796875\n",
      "needed time in inference-32:  0.00036525726318359375\n",
      "needed time in inference-33:  0.001168966293334961\n",
      "needed time in inference-34:  0.0007841587066650391\n",
      "needed time in inference-35:  0.0005693435668945312\n",
      "needed time in inference-36:  0.00048732757568359375\n",
      "needed time in inference-37:  0.0005319118499755859\n",
      "needed time in inference-38:  0.0005815029144287109\n",
      "needed time in inference-39:  0.0004558563232421875\n",
      "needed time in inference-40:  0.0005803108215332031\n",
      "needed time in inference-41:  0.000522613525390625\n",
      "needed time in inference-42:  0.00055694580078125\n",
      "needed time in inference-43:  0.0005996227264404297\n",
      "needed time in inference-44:  0.0004642009735107422\n",
      "needed time in inference-45:  0.0005261898040771484\n",
      "needed time in inference-46:  0.000431060791015625\n",
      "needed time in inference-47:  0.0005273818969726562\n",
      "needed time in inference-48:  0.0003647804260253906\n",
      "needed time in inference-49:  0.0004999637603759766\n",
      "average inference time:  0.000538640022277832\n"
     ]
    }
   ],
   "source": [
    "# variable\n",
    "TENSORRT_MODEL_PATH = './model/TensorRT_model.pb'\n",
    "\n",
    "graph = tf.Graph()\n",
    "with graph.as_default():\n",
    "    with tf.Session(config=tf.ConfigProto(gpu_options=tf.GPUOptions(per_process_gpu_memory_fraction=1))) as sess:\n",
    "        # read TensorRT model\n",
    "        trt_graph = read_pb_graph(TENSORRT_MODEL_PATH)\n",
    "\n",
    "        # obtain the corresponding input-output tensor\n",
    "        tf.import_graph_def(trt_graph, name='')\n",
    "        input = sess.graph.get_tensor_by_name('input_tensor_input:0')\n",
    "        output = sess.graph.get_tensor_by_name('output_tensor/Softmax:0')\n",
    "\n",
    "        # in this case, it demonstrates to perform inference for 50 times\n",
    "        total_time = 0; n_time_inference = 50\n",
    "        out_pred = sess.run(output, feed_dict={input: input_img})\n",
    "        for i in range(n_time_inference):\n",
    "            t1 = time.time()\n",
    "            out_pred = sess.run(output, feed_dict={input: input_img})\n",
    "            t2 = time.time()\n",
    "            delta_time = t2 - t1\n",
    "            total_time += delta_time\n",
    "            print(\"needed time in inference-\" + str(i) + \": \", delta_time)\n",
    "        avg_time_tensorRT = total_time / n_time_inference\n",
    "        print(\"average inference time: \", avg_time_tensorRT)"
   ]
  },
  {
   "cell_type": "markdown",
   "metadata": {},
   "source": [
    "### Perform inference using the original tensorflow model"
   ]
  },
  {
   "cell_type": "code",
   "execution_count": 9,
   "metadata": {},
   "outputs": [
    {
     "name": "stdout",
     "output_type": "stream",
     "text": [
      "needed time in inference-0:  0.0025250911712646484\n",
      "needed time in inference-1:  0.0027687549591064453\n",
      "needed time in inference-2:  0.0022516250610351562\n",
      "needed time in inference-3:  0.002929210662841797\n",
      "needed time in inference-4:  0.0027015209197998047\n",
      "needed time in inference-5:  0.002232074737548828\n",
      "needed time in inference-6:  0.002107858657836914\n",
      "needed time in inference-7:  0.0022270679473876953\n",
      "needed time in inference-8:  0.0028917789459228516\n",
      "needed time in inference-9:  0.0029876232147216797\n",
      "needed time in inference-10:  0.0023102760314941406\n",
      "needed time in inference-11:  0.0022118091583251953\n",
      "needed time in inference-12:  0.002244234085083008\n",
      "needed time in inference-13:  0.002538442611694336\n",
      "needed time in inference-14:  0.0025174617767333984\n",
      "needed time in inference-15:  0.0027942657470703125\n",
      "needed time in inference-16:  0.0029790401458740234\n",
      "needed time in inference-17:  0.002397775650024414\n",
      "needed time in inference-18:  0.002245664596557617\n",
      "needed time in inference-19:  0.0026383399963378906\n",
      "needed time in inference-20:  0.0031969547271728516\n",
      "needed time in inference-21:  0.0024938583374023438\n",
      "needed time in inference-22:  0.0021626949310302734\n",
      "needed time in inference-23:  0.002200603485107422\n",
      "needed time in inference-24:  0.0023958683013916016\n",
      "needed time in inference-25:  0.0029931068420410156\n",
      "needed time in inference-26:  0.002905607223510742\n",
      "needed time in inference-27:  0.002959728240966797\n",
      "needed time in inference-28:  0.002941131591796875\n",
      "needed time in inference-29:  0.0024805068969726562\n",
      "needed time in inference-30:  0.00345611572265625\n",
      "needed time in inference-31:  0.00287628173828125\n",
      "needed time in inference-32:  0.0028183460235595703\n",
      "needed time in inference-33:  0.002304553985595703\n",
      "needed time in inference-34:  0.0023818016052246094\n",
      "needed time in inference-35:  0.002391338348388672\n",
      "needed time in inference-36:  0.0029883384704589844\n",
      "needed time in inference-37:  0.0023429393768310547\n",
      "needed time in inference-38:  0.0025327205657958984\n",
      "needed time in inference-39:  0.0025529861450195312\n",
      "needed time in inference-40:  0.0023336410522460938\n",
      "needed time in inference-41:  0.0028641223907470703\n",
      "needed time in inference-42:  0.003652334213256836\n",
      "needed time in inference-43:  0.0031881332397460938\n",
      "needed time in inference-44:  0.003113269805908203\n",
      "needed time in inference-45:  0.0024225711822509766\n",
      "needed time in inference-46:  0.0028328895568847656\n",
      "needed time in inference-47:  0.003618478775024414\n",
      "needed time in inference-48:  0.0033943653106689453\n",
      "needed time in inference-49:  0.0021524429321289062\n",
      "average inference time:  0.002668952941894531\n",
      "TensorRT improvement compared to the original model: 4.9549844636644504\n"
     ]
    }
   ],
   "source": [
    "# variable\n",
    "FROZEN_MODEL_PATH = './model/frozen_model.pb'\n",
    "\n",
    "graph = tf.Graph()\n",
    "with graph.as_default():\n",
    "    with tf.Session() as sess:\n",
    "        # read TensorRT model\n",
    "        frozen_graph = read_pb_graph(FROZEN_MODEL_PATH)\n",
    "\n",
    "        # obtain the corresponding input-output tensor\n",
    "        tf.import_graph_def(frozen_graph, name='')\n",
    "        input = sess.graph.get_tensor_by_name('input_tensor_input:0')\n",
    "        output = sess.graph.get_tensor_by_name('output_tensor/Softmax:0')\n",
    "\n",
    "        # in this case, it demonstrates to perform inference for 50 times\n",
    "        total_time = 0; n_time_inference = 50\n",
    "        out_pred = sess.run(output, feed_dict={input: input_img})\n",
    "        for i in range(n_time_inference):\n",
    "            t1 = time.time()\n",
    "            out_pred = sess.run(output, feed_dict={input: input_img})\n",
    "            t2 = time.time()\n",
    "            delta_time = t2 - t1\n",
    "            total_time += delta_time\n",
    "            print(\"needed time in inference-\" + str(i) + \": \", delta_time)\n",
    "        avg_time_original_model = total_time / n_time_inference\n",
    "        print(\"average inference time: \", avg_time_original_model)\n",
    "        print(\"TensorRT improvement compared to the original model:\", avg_time_original_model/avg_time_tensorRT)"
   ]
  },
  {
   "cell_type": "markdown",
   "metadata": {},
   "source": [
    "### Plot the prediction result"
   ]
  },
  {
   "cell_type": "code",
   "execution_count": 12,
   "metadata": {},
   "outputs": [
    {
     "data": {
      "image/png": "[encoded data removed]",
      "text/plain": [
       "<Figure size 432x288 with 1 Axes>"
      ]
     },
     "metadata": {
      "needs_background": "light"
     },
     "output_type": "display_data"
    },
    {
     "data": {
      "image/png": "[encoded data removed]",
      "text/plain": [
       "<Figure size 432x288 with 1 Axes>"
      ]
     },
     "metadata": {
      "needs_background": "light"
     },
     "output_type": "display_data"
    }
   ],
   "source": [
    "# plot the prediction output\n",
    "plt.figure('img 1')\n",
    "plt.imshow(img1, cmap='gray')\n",
    "plt.title('pred:' + str(np.argmax(out_pred[0])), fontsize=22)\n",
    "\n",
    "plt.figure('img 2')\n",
    "plt.imshow(img2, cmap='gray')\n",
    "plt.title('pred:' + str(np.argmax(out_pred[1])), fontsize=22)\n",
    "plt.show()"
   ]
  },
  {
   "cell_type": "code",
   "execution_count": null,
   "metadata": {},
   "outputs": [],
   "source": []
  }
 ],
 "metadata": {
  "kernelspec": {
   "display_name": "Python 3",
   "language": "python",
   "name": "python3"
  },
  "language_info": {
   "codemirror_mode": {
    "name": "ipython",
    "version": 3
   },
   "file_extension": ".py",
   "mimetype": "text/x-python",
   "name": "python",
   "nbconvert_exporter": "python",
   "pygments_lexer": "ipython3",
   "version": "3.6.8"
  }
 },
 "nbformat": 4,
 "nbformat_minor": 2
}
